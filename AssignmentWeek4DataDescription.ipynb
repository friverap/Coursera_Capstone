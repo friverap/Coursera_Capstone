{
 "cells": [
  {
   "cell_type": "markdown",
   "metadata": {},
   "source": [
    "# Business Proposal | Data Description\n",
    "\n",
    "## Data \n",
    "\n",
    "We will use the next data sources:\n",
    "    \n",
    "1. Demographic Information from [Zipcode](https://zipcode.org)\n",
    "    \n",
    "2. Demographic and Economic Data from [Wikipedia](https://wikipedia.org)\n",
    "    \n",
    "3. Living and Educational Data from [NICHE](https://niche.com)\n",
    "    \n",
    "4. Zip Code Latitude and Longitude from [US Zip Code](https://opendatasoft.com)\n",
    "    \n",
    "5. Neighborhoods Information from [Foursquare](https://foursquare.com)\n",
    "    \n",
    "## Metodology\n",
    "\n",
    "First using Folium to show the map of the region.Then creating Pandas DataFrame of collected information from [Zipcode](https://zipcode.org), [Wikipedia](https://wikipedia.org) and [NICHE](https://niche.com) respectively.\n",
    "Using Matplotlib and Seaborn to plot chats to visualize:\n",
    "\n",
    "1. Population and demographics profile\n",
    "\n",
    "2. Population change from 2010 to 2019\n",
    "\n",
    "3. Median house value and household income\n",
    "\n",
    "4. Population data comparison from [Zipcode](https://zipcode.org), [Wikipedia](https://wikipedia.org) and [NICHE](https://niche.com)\n",
    "\n",
    "With these, we combine three DataFrame into one DataFrame to summary all information we want to know except for location data, for instance: city, population, public school ratings, median house value and household income, rent, high schools, top local employers, zipcodes (neighborhoods).\n",
    "\n",
    "Print each Zipcode along with the top 5 most common venues from Foursquare. Explore and cluster the neighborhoods using k-means clustering from machine learning library SciKit Learn. Visualize the resulting clusters on regional map with Folium with colored zipcode dots representing different neighborhood category type.\n",
    "\n"
   ]
  },
  {
   "cell_type": "code",
   "execution_count": null,
   "metadata": {},
   "outputs": [],
   "source": []
  }
 ],
 "metadata": {
  "kernelspec": {
   "display_name": "Python 3",
   "language": "python",
   "name": "python3"
  },
  "language_info": {
   "codemirror_mode": {
    "name": "ipython",
    "version": 3
   },
   "file_extension": ".py",
   "mimetype": "text/x-python",
   "name": "python",
   "nbconvert_exporter": "python",
   "pygments_lexer": "ipython3",
   "version": "3.8.5"
  }
 },
 "nbformat": 4,
 "nbformat_minor": 4
}
