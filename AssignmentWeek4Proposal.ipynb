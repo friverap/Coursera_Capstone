{
 "cells": [
  {
   "cell_type": "markdown",
   "metadata": {},
   "source": [
    "# Business Proposal | Fancy house in Silicon Valley\n",
    "\n",
    "## Introduction:\n",
    "\n",
    "The purpose of this Project is to help people to find a house in Silicon Valley to live. It will help people making smart and efficient decision on selecting great neighborhood out of numbers of other neighborhood.\n",
    "\n",
    "We all  know that Silicon Valley is home to many emerging and global technology companies. Apple, Facebook and Google are among the most prominent. It also has technological institutions around Stanford University in Palo Alto. The Museum of Computer History and NASA's Ames Research Center are located in Mountain View.\n",
    "\n",
    "This project is for those people who are looking for better neighborhoods. For ease of accessing to Cafe, School, Super market, medical shops, grocery shops, mall, theatre, hospital, like minded people, etc. \n",
    "\n",
    "We narrow down the search into five cities in south bay and east bay areas: Cupertino, Sunnyvale, Milpitas, Fremont and Pleasanton. First of all, we want to know where are they, as well as some basic information, such as population, median household income, median house value, top employers and local schools.\n",
    "\n",
    "This Project aim to create an analysis of features for a people who want to live in Silicon Valley to search a best neighborhood as a comparative analysis between neighborhoods. The features include median housing price and better school according to ratings, crime rates of that particular area, road connectivity, weather conditions, good management for emergency, water resources both freash and waste water and excrement conveyed in sewers and recreational facilities.\n",
    "\n",
    "It will help people to get awareness of the area and neighborhood before moving to Silicon Valley and start a new fresh life.\n"
   ]
  },
  {
   "cell_type": "code",
   "execution_count": null,
   "metadata": {},
   "outputs": [],
   "source": []
  }
 ],
 "metadata": {
  "kernelspec": {
   "display_name": "Python 3",
   "language": "python",
   "name": "python3"
  },
  "language_info": {
   "codemirror_mode": {
    "name": "ipython",
    "version": 3
   },
   "file_extension": ".py",
   "mimetype": "text/x-python",
   "name": "python",
   "nbconvert_exporter": "python",
   "pygments_lexer": "ipython3",
   "version": "3.8.5"
  }
 },
 "nbformat": 4,
 "nbformat_minor": 4
}
